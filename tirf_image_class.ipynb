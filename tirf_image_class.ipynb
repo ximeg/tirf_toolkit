{
 "cells": [
  {
   "cell_type": "code",
   "execution_count": null,
   "metadata": {},
   "outputs": [],
   "source": [
    "# Quick and dirty class prototype just to put my thoughts together\n",
    "\n",
    "def _parse_channels(channel_arrangement):\n",
    "    pass\n",
    "\n",
    "class TIRFimage(Object):\n",
    "    def __init__(tiff_file):\n",
    "        \"\"\"Read TIRF image stack using dask, and look at metadata\"\"\"\n",
    "        self._read_metadata(tiff_file)\n",
    "        self.stack = None # fixme - dask array\n",
    "    \n",
    "    def _read_metadata(tiff_file):\n",
    "        \"\"\"\n",
    "        Read and process the metadata of the tiff stack to figure out\n",
    "        the arrangement of the spectral channels.\n",
    "        \"\"\"\n",
    "        channel_arrangement = r\"[1, 2; 3, 0]\"\n",
    "        _parse_channels(channel_arrangement)\n",
    "\n",
    "    def Cy3():\n",
    "        \"\"\"Returns Dask array for Cy3 channel, if present, None otherwise\"\"\"\n",
    "        pass"
   ]
  },
  {
   "cell_type": "code",
   "execution_count": 40,
   "metadata": {},
   "outputs": [],
   "source": [
    "import re\n",
    "import numpy as np\n",
    "\n",
    "stack = np.reshape(np.arange(16), (4,4))"
   ]
  },
  {
   "cell_type": "code",
   "execution_count": 17,
   "metadata": {},
   "outputs": [],
   "source": [
    "ch_info = \"\"\"\\\n",
    "channel1.name = Cy3\n",
    "channel2.name = Cy2\n",
    "channel3.name = Cy5\n",
    "\"\"\"\n",
    "\n",
    "channel_arrangement = r\"[1]\"\n",
    "channel_arrangement = r\"[1, 2]\"\n",
    "channel_arrangement = r\"[1, 2; 3, 0]\"\n",
    "#channel_arrangement = r\"[1, 2; 3, 4]\"\n",
    "\n",
    "f = re.findall(\"[1-4]\", channel_arrangement)\n",
    "n_channels = len(f)\n"
   ]
  },
  {
   "cell_type": "code",
   "execution_count": 34,
   "metadata": {},
   "outputs": [],
   "source": [
    "s = ch_info.splitlines()[0]\n",
    "m = re.match(\"channel(?P<id>\\d)\\.name = (?P<name>Cy\\d)\", s)"
   ]
  },
  {
   "cell_type": "code",
   "execution_count": 35,
   "metadata": {},
   "outputs": [
    {
     "data": {
      "text/plain": [
       "'Cy3'"
      ]
     },
     "execution_count": 35,
     "metadata": {},
     "output_type": "execute_result"
    }
   ],
   "source": [
    "m.group('name')"
   ]
  },
  {
   "cell_type": "code",
   "execution_count": 51,
   "metadata": {},
   "outputs": [],
   "source": [
    "def TR(stack):\n",
    "    h, w = stack.shape[-2:]\n",
    "    return stack[..., :h//2, :w//2]\n",
    "def TL(stack):\n",
    "    h, w = stack.shape[-2:]\n",
    "    return stack[..., :h//2, w//2:]\n",
    "def BR(stack):\n",
    "    h, w = stack.shape[-2:]\n",
    "    return stack[..., h//2:, :w//2]\n",
    "def BL(stack):\n",
    "    h, w = stack.shape[-2:]\n",
    "    return stack[..., h//2:, w//2:]"
   ]
  },
  {
   "cell_type": "code",
   "execution_count": 56,
   "metadata": {},
   "outputs": [],
   "source": [
    "Cy3 = TR"
   ]
  },
  {
   "cell_type": "code",
   "execution_count": 57,
   "metadata": {},
   "outputs": [
    {
     "data": {
      "text/plain": [
       "array([[0, 1],\n",
       "       [4, 5]])"
      ]
     },
     "execution_count": 57,
     "metadata": {},
     "output_type": "execute_result"
    }
   ],
   "source": [
    "Cy3(stack)"
   ]
  },
  {
   "cell_type": "code",
   "execution_count": 61,
   "metadata": {},
   "outputs": [],
   "source": [
    "# repeat for all channels found in metadata\n",
    "if n_channels >= 3:\n",
    "    if f.index(m.group('id')) == 0:\n",
    "        Cy3 = TL  ## setattr(instance, m.group('channel'), TL)\n",
    "    elif f.index(m.group('id')) == 1:\\\n",
    "        Cy3 = TR\n",
    "    "
   ]
  },
  {
   "cell_type": "code",
   "execution_count": 63,
   "metadata": {},
   "outputs": [],
   "source": [
    "class A:\n",
    "    pass"
   ]
  },
  {
   "cell_type": "code",
   "execution_count": 64,
   "metadata": {},
   "outputs": [],
   "source": [
    "a = A()"
   ]
  },
  {
   "cell_type": "code",
   "execution_count": 65,
   "metadata": {},
   "outputs": [],
   "source": [
    "setattr(a, m.group('name'), TR)"
   ]
  },
  {
   "cell_type": "code",
   "execution_count": 66,
   "metadata": {},
   "outputs": [
    {
     "data": {
      "text/plain": [
       "array([[0, 1],\n",
       "       [4, 5]])"
      ]
     },
     "execution_count": 66,
     "metadata": {},
     "output_type": "execute_result"
    }
   ],
   "source": [
    "a.Cy3(stack)"
   ]
  },
  {
   "cell_type": "code",
   "execution_count": null,
   "metadata": {},
   "outputs": [],
   "source": []
  }
 ],
 "metadata": {
  "kernelspec": {
   "display_name": "base",
   "language": "python",
   "name": "python3"
  },
  "language_info": {
   "codemirror_mode": {
    "name": "ipython",
    "version": 3
   },
   "file_extension": ".py",
   "mimetype": "text/x-python",
   "name": "python",
   "nbconvert_exporter": "python",
   "pygments_lexer": "ipython3",
   "version": "3.8.8"
  },
  "orig_nbformat": 4
 },
 "nbformat": 4,
 "nbformat_minor": 2
}
