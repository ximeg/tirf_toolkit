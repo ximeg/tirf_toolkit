{
 "cells": [
  {
   "cell_type": "code",
   "execution_count": 55,
   "outputs": [],
   "source": [
    "from os.path import basename, splitext, exists, join\n",
    "from os import listdir\n",
    "\n",
    "import dask.array as da\n",
    "import numpy as np\n",
    "import matplotlib.pyplot as plt\n",
    "from dask_image import imread\n",
    "from sm_particle_counter.utils import *\n",
    "\n",
    "stack = imread.imread(\"D:/2023-06 injection test data/test_070.tif\") #[..., 0:1152]"
   ],
   "metadata": {
    "collapsed": false,
    "ExecuteTime": {
     "end_time": "2023-06-28T22:57:36.263811700Z",
     "start_time": "2023-06-28T22:57:36.195993Z"
    }
   }
  },
  {
   "cell_type": "code",
   "execution_count": 56,
   "outputs": [
    {
     "data": {
      "text/plain": "dask.array<_map_read_frame, shape=(700, 100, 2304), dtype=uint16, chunksize=(1, 100, 2304), chunktype=numpy.ndarray>",
      "text/html": "<table>\n    <tr>\n        <td>\n            <table style=\"border-collapse: collapse;\">\n                <thead>\n                    <tr>\n                        <td> </td>\n                        <th> Array </th>\n                        <th> Chunk </th>\n                    </tr>\n                </thead>\n                <tbody>\n                    \n                    <tr>\n                        <th> Bytes </th>\n                        <td> 307.62 MiB </td>\n                        <td> 450.00 kiB </td>\n                    </tr>\n                    \n                    <tr>\n                        <th> Shape </th>\n                        <td> (700, 100, 2304) </td>\n                        <td> (1, 100, 2304) </td>\n                    </tr>\n                    <tr>\n                        <th> Dask graph </th>\n                        <td colspan=\"2\"> 700 chunks in 3 graph layers </td>\n                    </tr>\n                    <tr>\n                        <th> Data type </th>\n                        <td colspan=\"2\"> uint16 numpy.ndarray </td>\n                    </tr>\n                </tbody>\n            </table>\n        </td>\n        <td>\n        <svg width=\"205\" height=\"109\" style=\"stroke:rgb(0,0,0);stroke-width:1\" >\n\n  <!-- Horizontal lines -->\n  <line x1=\"10\" y1=\"0\" x2=\"35\" y2=\"25\" style=\"stroke-width:2\" />\n  <line x1=\"10\" y1=\"33\" x2=\"35\" y2=\"59\" style=\"stroke-width:2\" />\n\n  <!-- Vertical lines -->\n  <line x1=\"10\" y1=\"0\" x2=\"10\" y2=\"33\" style=\"stroke-width:2\" />\n  <line x1=\"11\" y1=\"1\" x2=\"11\" y2=\"34\" />\n  <line x1=\"12\" y1=\"2\" x2=\"12\" y2=\"36\" />\n  <line x1=\"14\" y1=\"4\" x2=\"14\" y2=\"37\" />\n  <line x1=\"15\" y1=\"5\" x2=\"15\" y2=\"39\" />\n  <line x1=\"16\" y1=\"6\" x2=\"16\" y2=\"40\" />\n  <line x1=\"18\" y1=\"8\" x2=\"18\" y2=\"41\" />\n  <line x1=\"19\" y1=\"9\" x2=\"19\" y2=\"43\" />\n  <line x1=\"20\" y1=\"10\" x2=\"20\" y2=\"44\" />\n  <line x1=\"22\" y1=\"12\" x2=\"22\" y2=\"45\" />\n  <line x1=\"23\" y1=\"13\" x2=\"23\" y2=\"47\" />\n  <line x1=\"24\" y1=\"14\" x2=\"24\" y2=\"48\" />\n  <line x1=\"26\" y1=\"16\" x2=\"26\" y2=\"49\" />\n  <line x1=\"27\" y1=\"17\" x2=\"27\" y2=\"51\" />\n  <line x1=\"28\" y1=\"18\" x2=\"28\" y2=\"52\" />\n  <line x1=\"30\" y1=\"20\" x2=\"30\" y2=\"53\" />\n  <line x1=\"31\" y1=\"21\" x2=\"31\" y2=\"55\" />\n  <line x1=\"32\" y1=\"22\" x2=\"32\" y2=\"56\" />\n  <line x1=\"34\" y1=\"24\" x2=\"34\" y2=\"57\" />\n  <line x1=\"35\" y1=\"25\" x2=\"35\" y2=\"59\" style=\"stroke-width:2\" />\n\n  <!-- Colored Rectangle -->\n  <polygon points=\"10.0,0.0 35.63941035221566,25.639410352215666 35.63941035221566,59.273194977425376 10.0,33.633784625209714\" style=\"fill:#8B4903A0;stroke-width:0\"/>\n\n  <!-- Horizontal lines -->\n  <line x1=\"10\" y1=\"0\" x2=\"130\" y2=\"0\" style=\"stroke-width:2\" />\n  <line x1=\"11\" y1=\"1\" x2=\"131\" y2=\"1\" />\n  <line x1=\"12\" y1=\"2\" x2=\"132\" y2=\"2\" />\n  <line x1=\"14\" y1=\"4\" x2=\"134\" y2=\"4\" />\n  <line x1=\"15\" y1=\"5\" x2=\"135\" y2=\"5\" />\n  <line x1=\"16\" y1=\"6\" x2=\"136\" y2=\"6\" />\n  <line x1=\"18\" y1=\"8\" x2=\"138\" y2=\"8\" />\n  <line x1=\"19\" y1=\"9\" x2=\"139\" y2=\"9\" />\n  <line x1=\"20\" y1=\"10\" x2=\"140\" y2=\"10\" />\n  <line x1=\"22\" y1=\"12\" x2=\"142\" y2=\"12\" />\n  <line x1=\"23\" y1=\"13\" x2=\"143\" y2=\"13\" />\n  <line x1=\"24\" y1=\"14\" x2=\"144\" y2=\"14\" />\n  <line x1=\"26\" y1=\"16\" x2=\"146\" y2=\"16\" />\n  <line x1=\"27\" y1=\"17\" x2=\"147\" y2=\"17\" />\n  <line x1=\"28\" y1=\"18\" x2=\"148\" y2=\"18\" />\n  <line x1=\"30\" y1=\"20\" x2=\"150\" y2=\"20\" />\n  <line x1=\"31\" y1=\"21\" x2=\"151\" y2=\"21\" />\n  <line x1=\"32\" y1=\"22\" x2=\"152\" y2=\"22\" />\n  <line x1=\"34\" y1=\"24\" x2=\"154\" y2=\"24\" />\n  <line x1=\"35\" y1=\"25\" x2=\"155\" y2=\"25\" style=\"stroke-width:2\" />\n\n  <!-- Vertical lines -->\n  <line x1=\"10\" y1=\"0\" x2=\"35\" y2=\"25\" style=\"stroke-width:2\" />\n  <line x1=\"130\" y1=\"0\" x2=\"155\" y2=\"25\" style=\"stroke-width:2\" />\n\n  <!-- Colored Rectangle -->\n  <polygon points=\"10.0,0.0 130.0,0.0 155.63941035221566,25.639410352215666 35.63941035221566,25.639410352215666\" style=\"fill:#8B4903A0;stroke-width:0\"/>\n\n  <!-- Horizontal lines -->\n  <line x1=\"35\" y1=\"25\" x2=\"155\" y2=\"25\" style=\"stroke-width:2\" />\n  <line x1=\"35\" y1=\"59\" x2=\"155\" y2=\"59\" style=\"stroke-width:2\" />\n\n  <!-- Vertical lines -->\n  <line x1=\"35\" y1=\"25\" x2=\"35\" y2=\"59\" style=\"stroke-width:2\" />\n  <line x1=\"155\" y1=\"25\" x2=\"155\" y2=\"59\" style=\"stroke-width:2\" />\n\n  <!-- Colored Rectangle -->\n  <polygon points=\"35.63941035221566,25.639410352215666 155.63941035221566,25.639410352215666 155.63941035221566,59.273194977425376 35.63941035221566,59.273194977425376\" style=\"fill:#ECB172A0;stroke-width:0\"/>\n\n  <!-- Text -->\n  <text x=\"95.639410\" y=\"79.273195\" font-size=\"1.0rem\" font-weight=\"100\" text-anchor=\"middle\" >2304</text>\n  <text x=\"175.639410\" y=\"42.456303\" font-size=\"1.0rem\" font-weight=\"100\" text-anchor=\"middle\" transform=\"rotate(-90,175.639410,42.456303)\">100</text>\n  <text x=\"12.819705\" y=\"66.453490\" font-size=\"1.0rem\" font-weight=\"100\" text-anchor=\"middle\" transform=\"rotate(45,12.819705,66.453490)\">700</text>\n</svg>\n        </td>\n    </tr>\n</table>"
     },
     "execution_count": 56,
     "metadata": {},
     "output_type": "execute_result"
    }
   ],
   "source": [
    "stack"
   ],
   "metadata": {
    "collapsed": false,
    "ExecuteTime": {
     "end_time": "2023-06-28T22:57:36.572986700Z",
     "start_time": "2023-06-28T22:57:36.549049800Z"
    }
   }
  },
  {
   "cell_type": "code",
   "execution_count": 5,
   "outputs": [
    {
     "data": {
      "text/plain": "['Cy2', 'Cy5', 'Cy3']"
     },
     "execution_count": 5,
     "metadata": {},
     "output_type": "execute_result"
    }
   ],
   "source": [
    "def intersection(lst1, lst2):\n",
    "    if lst1:\n",
    "        return list(set(lst1) & set(lst2))\n",
    "    else:\n",
    "        return lst2\n",
    "\n",
    "req_channels = None\n",
    "avail_channels = [\"Cy2\", \"Cy5\", \"Cy3\"]\n",
    "\n",
    "intersection(req_channels, avail_channels)"
   ],
   "metadata": {
    "collapsed": false,
    "ExecuteTime": {
     "end_time": "2023-07-12T17:47:32.539222600Z",
     "start_time": "2023-07-12T17:47:32.512296Z"
    }
   }
  },
  {
   "cell_type": "code",
   "execution_count": 58,
   "outputs": [],
   "source": [
    "\n",
    "thresh = dict()\n",
    "for channel, img in get_channels(stack[1]).items():\n",
    "    # Threshold calculation\n",
    "    bg, q25, q75 = np.quantile(img.compute(), [0.05, 0.25, 0.75])\n",
    "    iqr = q75 - q25\n",
    "    thresh[channel] = bg + 5 * iqr"
   ],
   "metadata": {
    "collapsed": false,
    "ExecuteTime": {
     "end_time": "2023-06-28T22:57:37.887475400Z",
     "start_time": "2023-06-28T22:57:37.726903400Z"
    }
   }
  },
  {
   "cell_type": "code",
   "execution_count": 59,
   "outputs": [
    {
     "data": {
      "text/plain": "{'Cy3': 469.0, 'Cy5': 458.0}"
     },
     "execution_count": 59,
     "metadata": {},
     "output_type": "execute_result"
    }
   ],
   "source": [
    "thresh"
   ],
   "metadata": {
    "collapsed": false,
    "ExecuteTime": {
     "end_time": "2023-06-28T22:57:38.412073200Z",
     "start_time": "2023-06-28T22:57:38.387140900Z"
    }
   }
  },
  {
   "cell_type": "code",
   "execution_count": 60,
   "outputs": [],
   "source": [
    "thresh_img = np.ones_like(stack[0]) * thresh['Cy3']\n",
    "if get_num_channels(thresh_img) == 2:\n",
    "    thresh_img[Cy5(thresh_img)] = thresh['Cy5']"
   ],
   "metadata": {
    "collapsed": false,
    "ExecuteTime": {
     "end_time": "2023-06-28T22:57:39.004491700Z",
     "start_time": "2023-06-28T22:57:38.981553400Z"
    }
   }
  },
  {
   "cell_type": "code",
   "execution_count": 61,
   "outputs": [],
   "source": [
    "from scipy.ndimage import maximum_filter\n",
    "def segment_particles(layer, threshold):\n",
    "    \"\"\"\n",
    "    Threshold the image to select bright particles and apply maximum filter\n",
    "    to erode background around them, leaving only a single white pixel per\n",
    "    particle.\n",
    "    \"\"\"\n",
    "    masked_layer = layer * (layer > threshold)\n",
    "    return maximum_filter(layer, size=3) == masked_layer"
   ],
   "metadata": {
    "collapsed": false,
    "ExecuteTime": {
     "end_time": "2023-06-28T22:57:39.417389500Z",
     "start_time": "2023-06-28T22:57:39.376500500Z"
    }
   }
  },
  {
   "cell_type": "code",
   "execution_count": 62,
   "outputs": [],
   "source": [
    "segmented_stack = stack[200:500].map_blocks(segment_particles, threshold=thresh_img)\n",
    "p = segmented_stack.sum(axis=-2).compute()"
   ],
   "metadata": {
    "collapsed": false,
    "ExecuteTime": {
     "end_time": "2023-06-28T22:57:51.229845500Z",
     "start_time": "2023-06-28T22:57:39.912069300Z"
    }
   }
  },
  {
   "cell_type": "code",
   "execution_count": 63,
   "outputs": [],
   "source": [
    "N = dict()\n",
    "for channel, img in get_channels(p).items():\n",
    "    N[channel] = img.sum(axis=-1)"
   ],
   "metadata": {
    "collapsed": false,
    "ExecuteTime": {
     "end_time": "2023-06-28T22:57:51.245803400Z",
     "start_time": "2023-06-28T22:57:51.232837700Z"
    }
   }
  },
  {
   "cell_type": "code",
   "execution_count": 71,
   "outputs": [
    {
     "data": {
      "text/plain": "dask.array<sum-aggregate, shape=(300, 2304), dtype=int32, chunksize=(1, 2304), chunktype=numpy.ndarray>",
      "text/html": "<table>\n    <tr>\n        <td>\n            <table style=\"border-collapse: collapse;\">\n                <thead>\n                    <tr>\n                        <td> </td>\n                        <th> Array </th>\n                        <th> Chunk </th>\n                    </tr>\n                </thead>\n                <tbody>\n                    \n                    <tr>\n                        <th> Bytes </th>\n                        <td> 2.64 MiB </td>\n                        <td> 9.00 kiB </td>\n                    </tr>\n                    \n                    <tr>\n                        <th> Shape </th>\n                        <td> (300, 2304) </td>\n                        <td> (1, 2304) </td>\n                    </tr>\n                    <tr>\n                        <th> Dask graph </th>\n                        <td colspan=\"2\"> 300 chunks in 11 graph layers </td>\n                    </tr>\n                    <tr>\n                        <th> Data type </th>\n                        <td colspan=\"2\"> int32 numpy.ndarray </td>\n                    </tr>\n                </tbody>\n            </table>\n        </td>\n        <td>\n        <svg width=\"170\" height=\"90\" style=\"stroke:rgb(0,0,0);stroke-width:1\" >\n\n  <!-- Horizontal lines -->\n  <line x1=\"0\" y1=\"0\" x2=\"120\" y2=\"0\" style=\"stroke-width:2\" />\n  <line x1=\"0\" y1=\"2\" x2=\"120\" y2=\"2\" />\n  <line x1=\"0\" y1=\"4\" x2=\"120\" y2=\"4\" />\n  <line x1=\"0\" y1=\"6\" x2=\"120\" y2=\"6\" />\n  <line x1=\"0\" y1=\"8\" x2=\"120\" y2=\"8\" />\n  <line x1=\"0\" y1=\"10\" x2=\"120\" y2=\"10\" />\n  <line x1=\"0\" y1=\"12\" x2=\"120\" y2=\"12\" />\n  <line x1=\"0\" y1=\"14\" x2=\"120\" y2=\"14\" />\n  <line x1=\"0\" y1=\"16\" x2=\"120\" y2=\"16\" />\n  <line x1=\"0\" y1=\"18\" x2=\"120\" y2=\"18\" />\n  <line x1=\"0\" y1=\"20\" x2=\"120\" y2=\"20\" />\n  <line x1=\"0\" y1=\"23\" x2=\"120\" y2=\"23\" />\n  <line x1=\"0\" y1=\"25\" x2=\"120\" y2=\"25\" />\n  <line x1=\"0\" y1=\"27\" x2=\"120\" y2=\"27\" />\n  <line x1=\"0\" y1=\"29\" x2=\"120\" y2=\"29\" />\n  <line x1=\"0\" y1=\"31\" x2=\"120\" y2=\"31\" />\n  <line x1=\"0\" y1=\"33\" x2=\"120\" y2=\"33\" />\n  <line x1=\"0\" y1=\"35\" x2=\"120\" y2=\"35\" />\n  <line x1=\"0\" y1=\"37\" x2=\"120\" y2=\"37\" />\n  <line x1=\"0\" y1=\"40\" x2=\"120\" y2=\"40\" style=\"stroke-width:2\" />\n\n  <!-- Vertical lines -->\n  <line x1=\"0\" y1=\"0\" x2=\"0\" y2=\"40\" style=\"stroke-width:2\" />\n  <line x1=\"120\" y1=\"0\" x2=\"120\" y2=\"40\" style=\"stroke-width:2\" />\n\n  <!-- Colored Rectangle -->\n  <polygon points=\"0.0,0.0 120.0,0.0 120.0,40.003676406887756 0.0,40.003676406887756\" style=\"fill:#8B4903A0;stroke-width:0\"/>\n\n  <!-- Text -->\n  <text x=\"60.000000\" y=\"60.003676\" font-size=\"1.0rem\" font-weight=\"100\" text-anchor=\"middle\" >2304</text>\n  <text x=\"140.000000\" y=\"20.001838\" font-size=\"1.0rem\" font-weight=\"100\" text-anchor=\"middle\" transform=\"rotate(-90,140.000000,20.001838)\">300</text>\n</svg>\n        </td>\n    </tr>\n</table>"
     },
     "execution_count": 71,
     "metadata": {},
     "output_type": "execute_result"
    }
   ],
   "source": [
    "segmented_stack.sum(axis=-2)"
   ],
   "metadata": {
    "collapsed": false,
    "ExecuteTime": {
     "end_time": "2023-06-29T16:06:21.364053900Z",
     "start_time": "2023-06-29T16:06:21.320172600Z"
    }
   }
  },
  {
   "cell_type": "code",
   "execution_count": 77,
   "outputs": [
    {
     "data": {
      "text/plain": "('C:/blah/file', '.tex')"
     },
     "execution_count": 77,
     "metadata": {},
     "output_type": "execute_result"
    }
   ],
   "source": [
    "from os.path import splitext as a\n",
    "a(\"C:/blah/file.tex\")"
   ],
   "metadata": {
    "collapsed": false,
    "ExecuteTime": {
     "end_time": "2023-06-29T16:21:04.729661700Z",
     "start_time": "2023-06-29T16:21:04.706722900Z"
    }
   }
  },
  {
   "cell_type": "code",
   "execution_count": 65,
   "outputs": [],
   "source": [
    "import matplotlib.pyplot as plt"
   ],
   "metadata": {
    "collapsed": false,
    "ExecuteTime": {
     "end_time": "2023-06-28T22:57:51.291707100Z",
     "start_time": "2023-06-28T22:57:51.265748800Z"
    }
   }
  },
  {
   "cell_type": "code",
   "execution_count": 66,
   "outputs": [
    {
     "data": {
      "text/plain": "<Figure size 640x480 with 1 Axes>",
      "image/png": "[encoded data removed]"
     },
     "metadata": {},
     "output_type": "display_data"
    }
   ],
   "source": [
    "for channel, Y in N.items():\n",
    "    plt.plot(Y, label = channel)\n",
    "plt.legend()\n",
    "plt.show()"
   ],
   "metadata": {
    "collapsed": false,
    "ExecuteTime": {
     "end_time": "2023-06-28T22:57:51.421334100Z",
     "start_time": "2023-06-28T22:57:51.277715800Z"
    }
   }
  },
  {
   "cell_type": "code",
   "execution_count": 67,
   "outputs": [],
   "source": [
    "import pandas as pd"
   ],
   "metadata": {
    "collapsed": false,
    "ExecuteTime": {
     "end_time": "2023-06-28T22:58:18.576564100Z",
     "start_time": "2023-06-28T22:58:18.530686700Z"
    }
   }
  },
  {
   "cell_type": "code",
   "execution_count": 69,
   "outputs": [],
   "source": [
    "pd.DataFrame.from_dict(N).to_csv(\"test_data_particles.csv\")"
   ],
   "metadata": {
    "collapsed": false,
    "ExecuteTime": {
     "end_time": "2023-06-28T22:58:46.753541300Z",
     "start_time": "2023-06-28T22:58:46.729584700Z"
    }
   }
  },
  {
   "cell_type": "code",
   "execution_count": 24,
   "outputs": [
    {
     "name": "stdout",
     "output_type": "stream",
     "text": [
      "Analyzing TIFF file test_001.tif\n",
      "Analyzing TIFF file test_002.tif\n",
      "Analyzing TIFF file test_003.tif\n",
      "Analyzing TIFF file test_004.tif\n"
     ]
    }
   ],
   "source": [
    "\n",
    "for f in listdir(dir):\n",
    "    name, ext = splitext(f)\n",
    "\n",
    "    csv_name = f\"{name}_TIRF_intensity.csv\"\n",
    "    plt_name = f\"{name}_TIRF_intensity.png\"\n",
    "    # TODO: change the logic. If CSV file is not there, create it.\n",
    "    # If it is there but png is absent, create PNG based on data from CSV\n",
    "    if \".tif\" in ext.lower():\n",
    "        if not exists(join(dir, csv_name)):\n",
    "            print(\"Analyzing TIFF file \" + f)\n",
    "\n",
    "    if \".csv\" in ext.lower():\n",
    "        if not exists(join(dir, plt_name)):\n",
    "            print(\"Plotting  CSV  file \" + f)"
   ],
   "metadata": {
    "collapsed": false,
    "ExecuteTime": {
     "end_time": "2023-06-28T17:22:52.360489Z",
     "start_time": "2023-06-28T17:22:52.348716400Z"
    }
   }
  },
  {
   "cell_type": "code",
   "execution_count": 17,
   "outputs": [
    {
     "data": {
      "text/plain": "'test_004_TIRF_intensity.csv'"
     },
     "execution_count": 17,
     "metadata": {},
     "output_type": "execute_result"
    }
   ],
   "source": [
    "f\"{name}_TIRF_intensity.csv\""
   ],
   "metadata": {
    "collapsed": false,
    "ExecuteTime": {
     "end_time": "2023-06-28T17:21:04.696585900Z",
     "start_time": "2023-06-28T17:21:04.668661400Z"
    }
   }
  },
  {
   "cell_type": "code",
   "execution_count": 5,
   "outputs": [
    {
     "data": {
      "text/plain": "1"
     },
     "execution_count": 5,
     "metadata": {},
     "output_type": "execute_result"
    }
   ],
   "source": [
    "get_num_channels(stack)"
   ],
   "metadata": {
    "collapsed": false,
    "ExecuteTime": {
     "end_time": "2023-06-28T21:32:35.173515Z",
     "start_time": "2023-06-28T21:32:35.147583400Z"
    }
   }
  },
  {
   "cell_type": "code",
   "execution_count": 14,
   "outputs": [],
   "source": [
    "stack = da.from_array(np.zeros((3, 1024, 2048)))"
   ],
   "metadata": {
    "collapsed": false,
    "ExecuteTime": {
     "end_time": "2023-06-28T21:35:16.292657400Z",
     "start_time": "2023-06-28T21:35:16.205888300Z"
    }
   }
  },
  {
   "cell_type": "code",
   "execution_count": 17,
   "outputs": [
    {
     "data": {
      "text/plain": "dask.array<getitem, shape=(3, 1024, 1024), dtype=float64, chunksize=(3, 1024, 1024), chunktype=numpy.ndarray>",
      "text/html": "<table>\n    <tr>\n        <td>\n            <table style=\"border-collapse: collapse;\">\n                <thead>\n                    <tr>\n                        <td> </td>\n                        <th> Array </th>\n                        <th> Chunk </th>\n                    </tr>\n                </thead>\n                <tbody>\n                    \n                    <tr>\n                        <th> Bytes </th>\n                        <td> 24.00 MiB </td>\n                        <td> 24.00 MiB </td>\n                    </tr>\n                    \n                    <tr>\n                        <th> Shape </th>\n                        <td> (3, 1024, 1024) </td>\n                        <td> (3, 1024, 1024) </td>\n                    </tr>\n                    <tr>\n                        <th> Dask graph </th>\n                        <td colspan=\"2\"> 1 chunks in 2 graph layers </td>\n                    </tr>\n                    <tr>\n                        <th> Data type </th>\n                        <td colspan=\"2\"> float64 numpy.ndarray </td>\n                    </tr>\n                </tbody>\n            </table>\n        </td>\n        <td>\n        <svg width=\"194\" height=\"184\" style=\"stroke:rgb(0,0,0);stroke-width:1\" >\n\n  <!-- Horizontal lines -->\n  <line x1=\"10\" y1=\"0\" x2=\"24\" y2=\"14\" style=\"stroke-width:2\" />\n  <line x1=\"10\" y1=\"120\" x2=\"24\" y2=\"134\" style=\"stroke-width:2\" />\n\n  <!-- Vertical lines -->\n  <line x1=\"10\" y1=\"0\" x2=\"10\" y2=\"120\" style=\"stroke-width:2\" />\n  <line x1=\"24\" y1=\"14\" x2=\"24\" y2=\"134\" style=\"stroke-width:2\" />\n\n  <!-- Colored Rectangle -->\n  <polygon points=\"10.0,0.0 24.9485979497544,14.948597949754403 24.9485979497544,134.9485979497544 10.0,120.0\" style=\"fill:#ECB172A0;stroke-width:0\"/>\n\n  <!-- Horizontal lines -->\n  <line x1=\"10\" y1=\"0\" x2=\"130\" y2=\"0\" style=\"stroke-width:2\" />\n  <line x1=\"24\" y1=\"14\" x2=\"144\" y2=\"14\" style=\"stroke-width:2\" />\n\n  <!-- Vertical lines -->\n  <line x1=\"10\" y1=\"0\" x2=\"24\" y2=\"14\" style=\"stroke-width:2\" />\n  <line x1=\"130\" y1=\"0\" x2=\"144\" y2=\"14\" style=\"stroke-width:2\" />\n\n  <!-- Colored Rectangle -->\n  <polygon points=\"10.0,0.0 130.0,0.0 144.9485979497544,14.948597949754403 24.9485979497544,14.948597949754403\" style=\"fill:#ECB172A0;stroke-width:0\"/>\n\n  <!-- Horizontal lines -->\n  <line x1=\"24\" y1=\"14\" x2=\"144\" y2=\"14\" style=\"stroke-width:2\" />\n  <line x1=\"24\" y1=\"134\" x2=\"144\" y2=\"134\" style=\"stroke-width:2\" />\n\n  <!-- Vertical lines -->\n  <line x1=\"24\" y1=\"14\" x2=\"24\" y2=\"134\" style=\"stroke-width:2\" />\n  <line x1=\"144\" y1=\"14\" x2=\"144\" y2=\"134\" style=\"stroke-width:2\" />\n\n  <!-- Colored Rectangle -->\n  <polygon points=\"24.9485979497544,14.948597949754403 144.9485979497544,14.948597949754403 144.9485979497544,134.9485979497544 24.9485979497544,134.9485979497544\" style=\"fill:#ECB172A0;stroke-width:0\"/>\n\n  <!-- Text -->\n  <text x=\"84.948598\" y=\"154.948598\" font-size=\"1.0rem\" font-weight=\"100\" text-anchor=\"middle\" >1024</text>\n  <text x=\"164.948598\" y=\"74.948598\" font-size=\"1.0rem\" font-weight=\"100\" text-anchor=\"middle\" transform=\"rotate(-90,164.948598,74.948598)\">1024</text>\n  <text x=\"7.474299\" y=\"147.474299\" font-size=\"1.0rem\" font-weight=\"100\" text-anchor=\"middle\" transform=\"rotate(45,7.474299,147.474299)\">3</text>\n</svg>\n        </td>\n    </tr>\n</table>"
     },
     "execution_count": 17,
     "metadata": {},
     "output_type": "execute_result"
    }
   ],
   "source": [
    "get_channels(stack)[\"Cy5\"]"
   ],
   "metadata": {
    "collapsed": false,
    "ExecuteTime": {
     "end_time": "2023-06-28T21:35:34.767653800Z",
     "start_time": "2023-06-28T21:35:34.750701600Z"
    }
   }
  },
  {
   "cell_type": "code",
   "execution_count": 8,
   "outputs": [],
   "source": [
    "t = np.zeros_like(stack[0])\n",
    "t[:, :200] = 490\n",
    "t[:, 200:] = 400"
   ],
   "metadata": {
    "collapsed": false,
    "ExecuteTime": {
     "end_time": "2023-06-28T21:28:17.226433800Z",
     "start_time": "2023-06-28T21:28:17.215464500Z"
    }
   }
  },
  {
   "cell_type": "code",
   "execution_count": 9,
   "outputs": [
    {
     "data": {
      "text/plain": "<Figure size 640x480 with 1 Axes>",
      "image/png": "[encoded data removed]"
     },
     "metadata": {},
     "output_type": "display_data"
    }
   ],
   "source": [
    "plt.imshow(stack[70] > t, interpolation=\"none\");"
   ],
   "metadata": {
    "collapsed": false,
    "ExecuteTime": {
     "end_time": "2023-06-28T21:28:18.239722900Z",
     "start_time": "2023-06-28T21:28:17.608414100Z"
    }
   }
  },
  {
   "cell_type": "code",
   "execution_count": 10,
   "outputs": [
    {
     "data": {
      "text/plain": "dask.array<gt, shape=(150, 50, 401), dtype=bool, chunksize=(1, 50, 401), chunktype=numpy.ndarray>",
      "text/html": "<table>\n    <tr>\n        <td>\n            <table style=\"border-collapse: collapse;\">\n                <thead>\n                    <tr>\n                        <td> </td>\n                        <th> Array </th>\n                        <th> Chunk </th>\n                    </tr>\n                </thead>\n                <tbody>\n                    \n                    <tr>\n                        <th> Bytes </th>\n                        <td> 2.87 MiB </td>\n                        <td> 19.58 kiB </td>\n                    </tr>\n                    \n                    <tr>\n                        <th> Shape </th>\n                        <td> (150, 50, 401) </td>\n                        <td> (1, 50, 401) </td>\n                    </tr>\n                    <tr>\n                        <th> Dask graph </th>\n                        <td colspan=\"2\"> 150 chunks in 7 graph layers </td>\n                    </tr>\n                    <tr>\n                        <th> Data type </th>\n                        <td colspan=\"2\"> bool numpy.ndarray </td>\n                    </tr>\n                </tbody>\n            </table>\n        </td>\n        <td>\n        <svg width=\"206\" height=\"116\" style=\"stroke:rgb(0,0,0);stroke-width:1\" >\n\n  <!-- Horizontal lines -->\n  <line x1=\"10\" y1=\"0\" x2=\"36\" y2=\"26\" style=\"stroke-width:2\" />\n  <line x1=\"10\" y1=\"39\" x2=\"36\" y2=\"66\" style=\"stroke-width:2\" />\n\n  <!-- Vertical lines -->\n  <line x1=\"10\" y1=\"0\" x2=\"10\" y2=\"39\" style=\"stroke-width:2\" />\n  <line x1=\"11\" y1=\"1\" x2=\"11\" y2=\"41\" />\n  <line x1=\"12\" y1=\"2\" x2=\"12\" y2=\"42\" />\n  <line x1=\"14\" y1=\"4\" x2=\"14\" y2=\"43\" />\n  <line x1=\"15\" y1=\"5\" x2=\"15\" y2=\"45\" />\n  <line x1=\"16\" y1=\"6\" x2=\"16\" y2=\"46\" />\n  <line x1=\"18\" y1=\"8\" x2=\"18\" y2=\"48\" />\n  <line x1=\"19\" y1=\"9\" x2=\"19\" y2=\"49\" />\n  <line x1=\"21\" y1=\"11\" x2=\"21\" y2=\"50\" />\n  <line x1=\"22\" y1=\"12\" x2=\"22\" y2=\"52\" />\n  <line x1=\"23\" y1=\"13\" x2=\"23\" y2=\"53\" />\n  <line x1=\"25\" y1=\"15\" x2=\"25\" y2=\"54\" />\n  <line x1=\"26\" y1=\"16\" x2=\"26\" y2=\"56\" />\n  <line x1=\"27\" y1=\"17\" x2=\"27\" y2=\"57\" />\n  <line x1=\"29\" y1=\"19\" x2=\"29\" y2=\"59\" />\n  <line x1=\"30\" y1=\"20\" x2=\"30\" y2=\"60\" />\n  <line x1=\"32\" y1=\"22\" x2=\"32\" y2=\"61\" />\n  <line x1=\"33\" y1=\"23\" x2=\"33\" y2=\"63\" />\n  <line x1=\"34\" y1=\"24\" x2=\"34\" y2=\"64\" />\n  <line x1=\"36\" y1=\"26\" x2=\"36\" y2=\"66\" style=\"stroke-width:2\" />\n\n  <!-- Colored Rectangle -->\n  <polygon points=\"10.0,0.0 36.40457679331084,26.40457679331084 36.40457679331084,66.18558482726061 10.0,39.781008033949774\" style=\"fill:#8B4903A0;stroke-width:0\"/>\n\n  <!-- Horizontal lines -->\n  <line x1=\"10\" y1=\"0\" x2=\"130\" y2=\"0\" style=\"stroke-width:2\" />\n  <line x1=\"11\" y1=\"1\" x2=\"131\" y2=\"1\" />\n  <line x1=\"12\" y1=\"2\" x2=\"132\" y2=\"2\" />\n  <line x1=\"14\" y1=\"4\" x2=\"134\" y2=\"4\" />\n  <line x1=\"15\" y1=\"5\" x2=\"135\" y2=\"5\" />\n  <line x1=\"16\" y1=\"6\" x2=\"136\" y2=\"6\" />\n  <line x1=\"18\" y1=\"8\" x2=\"138\" y2=\"8\" />\n  <line x1=\"19\" y1=\"9\" x2=\"139\" y2=\"9\" />\n  <line x1=\"21\" y1=\"11\" x2=\"141\" y2=\"11\" />\n  <line x1=\"22\" y1=\"12\" x2=\"142\" y2=\"12\" />\n  <line x1=\"23\" y1=\"13\" x2=\"143\" y2=\"13\" />\n  <line x1=\"25\" y1=\"15\" x2=\"145\" y2=\"15\" />\n  <line x1=\"26\" y1=\"16\" x2=\"146\" y2=\"16\" />\n  <line x1=\"27\" y1=\"17\" x2=\"147\" y2=\"17\" />\n  <line x1=\"29\" y1=\"19\" x2=\"149\" y2=\"19\" />\n  <line x1=\"30\" y1=\"20\" x2=\"150\" y2=\"20\" />\n  <line x1=\"32\" y1=\"22\" x2=\"152\" y2=\"22\" />\n  <line x1=\"33\" y1=\"23\" x2=\"153\" y2=\"23\" />\n  <line x1=\"34\" y1=\"24\" x2=\"154\" y2=\"24\" />\n  <line x1=\"36\" y1=\"26\" x2=\"156\" y2=\"26\" style=\"stroke-width:2\" />\n\n  <!-- Vertical lines -->\n  <line x1=\"10\" y1=\"0\" x2=\"36\" y2=\"26\" style=\"stroke-width:2\" />\n  <line x1=\"130\" y1=\"0\" x2=\"156\" y2=\"26\" style=\"stroke-width:2\" />\n\n  <!-- Colored Rectangle -->\n  <polygon points=\"10.0,0.0 130.0,0.0 156.40457679331084,26.40457679331084 36.40457679331084,26.40457679331084\" style=\"fill:#8B4903A0;stroke-width:0\"/>\n\n  <!-- Horizontal lines -->\n  <line x1=\"36\" y1=\"26\" x2=\"156\" y2=\"26\" style=\"stroke-width:2\" />\n  <line x1=\"36\" y1=\"66\" x2=\"156\" y2=\"66\" style=\"stroke-width:2\" />\n\n  <!-- Vertical lines -->\n  <line x1=\"36\" y1=\"26\" x2=\"36\" y2=\"66\" style=\"stroke-width:2\" />\n  <line x1=\"156\" y1=\"26\" x2=\"156\" y2=\"66\" style=\"stroke-width:2\" />\n\n  <!-- Colored Rectangle -->\n  <polygon points=\"36.40457679331084,26.40457679331084 156.40457679331084,26.40457679331084 156.40457679331084,66.18558482726061 36.40457679331084,66.18558482726061\" style=\"fill:#ECB172A0;stroke-width:0\"/>\n\n  <!-- Text -->\n  <text x=\"96.404577\" y=\"86.185585\" font-size=\"1.0rem\" font-weight=\"100\" text-anchor=\"middle\" >401</text>\n  <text x=\"176.404577\" y=\"46.295081\" font-size=\"1.0rem\" font-weight=\"100\" text-anchor=\"middle\" transform=\"rotate(0,176.404577,46.295081)\">50</text>\n  <text x=\"13.202288\" y=\"72.983296\" font-size=\"1.0rem\" font-weight=\"100\" text-anchor=\"middle\" transform=\"rotate(45,13.202288,72.983296)\">150</text>\n</svg>\n        </td>\n    </tr>\n</table>"
     },
     "execution_count": 10,
     "metadata": {},
     "output_type": "execute_result"
    }
   ],
   "source": [
    "stack > t"
   ],
   "metadata": {
    "collapsed": false,
    "ExecuteTime": {
     "end_time": "2023-06-28T21:28:19.542241200Z",
     "start_time": "2023-06-28T21:28:19.516311200Z"
    }
   }
  },
  {
   "cell_type": "code",
   "execution_count": 11,
   "outputs": [],
   "source": [
    "def s(ar):\n",
    "    return np.array([ar[..., :200].sum(axis=(1,2)), ar[..., 200:].sum(axis=(1,2))])"
   ],
   "metadata": {
    "collapsed": false,
    "ExecuteTime": {
     "end_time": "2023-06-28T21:28:20.183527Z",
     "start_time": "2023-06-28T21:28:20.167570100Z"
    }
   }
  },
  {
   "cell_type": "code",
   "execution_count": 12,
   "outputs": [
    {
     "data": {
      "text/plain": "dask.array<s, shape=(150, 50, 401), dtype=uint32, chunksize=(1, 50, 401), chunktype=numpy.ndarray>",
      "text/html": "<table>\n    <tr>\n        <td>\n            <table style=\"border-collapse: collapse;\">\n                <thead>\n                    <tr>\n                        <td> </td>\n                        <th> Array </th>\n                        <th> Chunk </th>\n                    </tr>\n                </thead>\n                <tbody>\n                    \n                    <tr>\n                        <th> Bytes </th>\n                        <td> 11.47 MiB </td>\n                        <td> 78.32 kiB </td>\n                    </tr>\n                    \n                    <tr>\n                        <th> Shape </th>\n                        <td> (150, 50, 401) </td>\n                        <td> (1, 50, 401) </td>\n                    </tr>\n                    <tr>\n                        <th> Dask graph </th>\n                        <td colspan=\"2\"> 150 chunks in 4 graph layers </td>\n                    </tr>\n                    <tr>\n                        <th> Data type </th>\n                        <td colspan=\"2\"> uint32 numpy.ndarray </td>\n                    </tr>\n                </tbody>\n            </table>\n        </td>\n        <td>\n        <svg width=\"206\" height=\"116\" style=\"stroke:rgb(0,0,0);stroke-width:1\" >\n\n  <!-- Horizontal lines -->\n  <line x1=\"10\" y1=\"0\" x2=\"36\" y2=\"26\" style=\"stroke-width:2\" />\n  <line x1=\"10\" y1=\"39\" x2=\"36\" y2=\"66\" style=\"stroke-width:2\" />\n\n  <!-- Vertical lines -->\n  <line x1=\"10\" y1=\"0\" x2=\"10\" y2=\"39\" style=\"stroke-width:2\" />\n  <line x1=\"11\" y1=\"1\" x2=\"11\" y2=\"41\" />\n  <line x1=\"12\" y1=\"2\" x2=\"12\" y2=\"42\" />\n  <line x1=\"14\" y1=\"4\" x2=\"14\" y2=\"43\" />\n  <line x1=\"15\" y1=\"5\" x2=\"15\" y2=\"45\" />\n  <line x1=\"16\" y1=\"6\" x2=\"16\" y2=\"46\" />\n  <line x1=\"18\" y1=\"8\" x2=\"18\" y2=\"48\" />\n  <line x1=\"19\" y1=\"9\" x2=\"19\" y2=\"49\" />\n  <line x1=\"21\" y1=\"11\" x2=\"21\" y2=\"50\" />\n  <line x1=\"22\" y1=\"12\" x2=\"22\" y2=\"52\" />\n  <line x1=\"23\" y1=\"13\" x2=\"23\" y2=\"53\" />\n  <line x1=\"25\" y1=\"15\" x2=\"25\" y2=\"54\" />\n  <line x1=\"26\" y1=\"16\" x2=\"26\" y2=\"56\" />\n  <line x1=\"27\" y1=\"17\" x2=\"27\" y2=\"57\" />\n  <line x1=\"29\" y1=\"19\" x2=\"29\" y2=\"59\" />\n  <line x1=\"30\" y1=\"20\" x2=\"30\" y2=\"60\" />\n  <line x1=\"32\" y1=\"22\" x2=\"32\" y2=\"61\" />\n  <line x1=\"33\" y1=\"23\" x2=\"33\" y2=\"63\" />\n  <line x1=\"34\" y1=\"24\" x2=\"34\" y2=\"64\" />\n  <line x1=\"36\" y1=\"26\" x2=\"36\" y2=\"66\" style=\"stroke-width:2\" />\n\n  <!-- Colored Rectangle -->\n  <polygon points=\"10.0,0.0 36.40457679331084,26.40457679331084 36.40457679331084,66.18558482726061 10.0,39.781008033949774\" style=\"fill:#8B4903A0;stroke-width:0\"/>\n\n  <!-- Horizontal lines -->\n  <line x1=\"10\" y1=\"0\" x2=\"130\" y2=\"0\" style=\"stroke-width:2\" />\n  <line x1=\"11\" y1=\"1\" x2=\"131\" y2=\"1\" />\n  <line x1=\"12\" y1=\"2\" x2=\"132\" y2=\"2\" />\n  <line x1=\"14\" y1=\"4\" x2=\"134\" y2=\"4\" />\n  <line x1=\"15\" y1=\"5\" x2=\"135\" y2=\"5\" />\n  <line x1=\"16\" y1=\"6\" x2=\"136\" y2=\"6\" />\n  <line x1=\"18\" y1=\"8\" x2=\"138\" y2=\"8\" />\n  <line x1=\"19\" y1=\"9\" x2=\"139\" y2=\"9\" />\n  <line x1=\"21\" y1=\"11\" x2=\"141\" y2=\"11\" />\n  <line x1=\"22\" y1=\"12\" x2=\"142\" y2=\"12\" />\n  <line x1=\"23\" y1=\"13\" x2=\"143\" y2=\"13\" />\n  <line x1=\"25\" y1=\"15\" x2=\"145\" y2=\"15\" />\n  <line x1=\"26\" y1=\"16\" x2=\"146\" y2=\"16\" />\n  <line x1=\"27\" y1=\"17\" x2=\"147\" y2=\"17\" />\n  <line x1=\"29\" y1=\"19\" x2=\"149\" y2=\"19\" />\n  <line x1=\"30\" y1=\"20\" x2=\"150\" y2=\"20\" />\n  <line x1=\"32\" y1=\"22\" x2=\"152\" y2=\"22\" />\n  <line x1=\"33\" y1=\"23\" x2=\"153\" y2=\"23\" />\n  <line x1=\"34\" y1=\"24\" x2=\"154\" y2=\"24\" />\n  <line x1=\"36\" y1=\"26\" x2=\"156\" y2=\"26\" style=\"stroke-width:2\" />\n\n  <!-- Vertical lines -->\n  <line x1=\"10\" y1=\"0\" x2=\"36\" y2=\"26\" style=\"stroke-width:2\" />\n  <line x1=\"130\" y1=\"0\" x2=\"156\" y2=\"26\" style=\"stroke-width:2\" />\n\n  <!-- Colored Rectangle -->\n  <polygon points=\"10.0,0.0 130.0,0.0 156.40457679331084,26.40457679331084 36.40457679331084,26.40457679331084\" style=\"fill:#8B4903A0;stroke-width:0\"/>\n\n  <!-- Horizontal lines -->\n  <line x1=\"36\" y1=\"26\" x2=\"156\" y2=\"26\" style=\"stroke-width:2\" />\n  <line x1=\"36\" y1=\"66\" x2=\"156\" y2=\"66\" style=\"stroke-width:2\" />\n\n  <!-- Vertical lines -->\n  <line x1=\"36\" y1=\"26\" x2=\"36\" y2=\"66\" style=\"stroke-width:2\" />\n  <line x1=\"156\" y1=\"26\" x2=\"156\" y2=\"66\" style=\"stroke-width:2\" />\n\n  <!-- Colored Rectangle -->\n  <polygon points=\"36.40457679331084,26.40457679331084 156.40457679331084,26.40457679331084 156.40457679331084,66.18558482726061 36.40457679331084,66.18558482726061\" style=\"fill:#ECB172A0;stroke-width:0\"/>\n\n  <!-- Text -->\n  <text x=\"96.404577\" y=\"86.185585\" font-size=\"1.0rem\" font-weight=\"100\" text-anchor=\"middle\" >401</text>\n  <text x=\"176.404577\" y=\"46.295081\" font-size=\"1.0rem\" font-weight=\"100\" text-anchor=\"middle\" transform=\"rotate(0,176.404577,46.295081)\">50</text>\n  <text x=\"13.202288\" y=\"72.983296\" font-size=\"1.0rem\" font-weight=\"100\" text-anchor=\"middle\" transform=\"rotate(45,13.202288,72.983296)\">150</text>\n</svg>\n        </td>\n    </tr>\n</table>"
     },
     "execution_count": 12,
     "metadata": {},
     "output_type": "execute_result"
    }
   ],
   "source": [
    "stack.map_blocks(s)"
   ],
   "metadata": {
    "collapsed": false,
    "ExecuteTime": {
     "end_time": "2023-06-28T21:28:21.420219800Z",
     "start_time": "2023-06-28T21:28:21.396284200Z"
    }
   }
  },
  {
   "cell_type": "code",
   "execution_count": 24,
   "outputs": [
    {
     "ename": "type",
     "evalue": "Provided data have incorrect shape",
     "output_type": "error",
     "traceback": [
      "\u001B[1;31m---------------------------------------------------------------------------\u001B[0m",
      "\u001B[1;31mValueError\u001B[0m                                Traceback (most recent call last)",
      "Cell \u001B[1;32mIn[24], line 1\u001B[0m\n\u001B[1;32m----> 1\u001B[0m \u001B[43mget_channels\u001B[49m\u001B[43m(\u001B[49m\u001B[43mstack\u001B[49m\u001B[43m[\u001B[49m\u001B[38;5;241;43m0\u001B[39;49m\u001B[43m]\u001B[49m\u001B[43m)\u001B[49m[\u001B[38;5;124m'\u001B[39m\u001B[38;5;124mCy3\u001B[39m\u001B[38;5;124m'\u001B[39m]\n",
      "File \u001B[1;32m~\\Documents\\dev\\sm_particle_counter\\sm_particle_counter\\utils.py:24\u001B[0m, in \u001B[0;36mget_channels\u001B[1;34m(data)\u001B[0m\n\u001B[0;32m     18\u001B[0m \u001B[38;5;28;01mdef\u001B[39;00m \u001B[38;5;21mget_channels\u001B[39m(data):\n\u001B[0;32m     19\u001B[0m \u001B[38;5;250m    \u001B[39m\u001B[38;5;124;03m\"\"\"\u001B[39;00m\n\u001B[0;32m     20\u001B[0m \u001B[38;5;124;03m    Extract channels from a smTIRF image and return them\u001B[39;00m\n\u001B[0;32m     21\u001B[0m \u001B[38;5;124;03m    as a dict object. If width is twice the height, we have\u001B[39;00m\n\u001B[0;32m     22\u001B[0m \u001B[38;5;124;03m    two channels, one otherwise.\u001B[39;00m\n\u001B[0;32m     23\u001B[0m \u001B[38;5;124;03m    \"\"\"\u001B[39;00m\n\u001B[1;32m---> 24\u001B[0m     n \u001B[38;5;241m=\u001B[39m \u001B[43mget_num_channels\u001B[49m\u001B[43m(\u001B[49m\u001B[43mdata\u001B[49m\u001B[43m)\u001B[49m\n\u001B[0;32m     25\u001B[0m     \u001B[38;5;28;01mif\u001B[39;00m n \u001B[38;5;241m==\u001B[39m \u001B[38;5;241m1\u001B[39m:\n\u001B[0;32m     26\u001B[0m         \u001B[38;5;28;01mreturn\u001B[39;00m \u001B[38;5;28mdict\u001B[39m(Cy3\u001B[38;5;241m=\u001B[39mdata)\n",
      "File \u001B[1;32m~\\Documents\\dev\\sm_particle_counter\\sm_particle_counter\\utils.py:10\u001B[0m, in \u001B[0;36mget_num_channels\u001B[1;34m(data)\u001B[0m\n\u001B[0;32m      5\u001B[0m \u001B[38;5;28;01mdef\u001B[39;00m \u001B[38;5;21mget_num_channels\u001B[39m(data):\n\u001B[0;32m      6\u001B[0m \u001B[38;5;250m    \u001B[39m\u001B[38;5;124;03m\"\"\"\u001B[39;00m\n\u001B[0;32m      7\u001B[0m \u001B[38;5;124;03m    Return number of channels in smTIRF. We assume that we always\u001B[39;00m\n\u001B[0;32m      8\u001B[0m \u001B[38;5;124;03m    work with 2x2 binning\u001B[39;00m\n\u001B[0;32m      9\u001B[0m \u001B[38;5;124;03m    \"\"\"\u001B[39;00m\n\u001B[1;32m---> 10\u001B[0m     \u001B[43mensure_array\u001B[49m\u001B[43m(\u001B[49m\u001B[43mdata\u001B[49m\u001B[43m)\u001B[49m\n\u001B[0;32m     11\u001B[0m     h, w \u001B[38;5;241m=\u001B[39m data\u001B[38;5;241m.\u001B[39mshape[\u001B[38;5;241m-\u001B[39m\u001B[38;5;241m2\u001B[39m:]\n\u001B[0;32m     13\u001B[0m     \u001B[38;5;28;01mif\u001B[39;00m w \u001B[38;5;241m>\u001B[39m\u001B[38;5;241m=\u001B[39m \u001B[38;5;241m2\u001B[39m \u001B[38;5;241m*\u001B[39m h \u001B[38;5;129;01mand\u001B[39;00m w \u001B[38;5;241m>\u001B[39m\u001B[38;5;241m=\u001B[39m \u001B[38;5;241m2048\u001B[39m:\n",
      "File \u001B[1;32m~\\Documents\\dev\\sm_particle_counter\\sm_particle_counter\\utils.py:43\u001B[0m, in \u001B[0;36mensure_array\u001B[1;34m(data, ndim)\u001B[0m\n\u001B[0;32m     40\u001B[0m     \u001B[38;5;28;01mraise\u001B[39;00m \u001B[38;5;167;01mValueError\u001B[39;00m(\u001B[38;5;124m\"\u001B[39m\u001B[38;5;124mProvided data must be a dask or numpy array\u001B[39m\u001B[38;5;124m\"\u001B[39m)\n\u001B[0;32m     42\u001B[0m \u001B[38;5;28;01mif\u001B[39;00m data\u001B[38;5;241m.\u001B[39mndim \u001B[38;5;241m!=\u001B[39m ndim:\n\u001B[1;32m---> 43\u001B[0m     \u001B[38;5;28;01mraise\u001B[39;00m \u001B[38;5;167;01mValueError\u001B[39;00m(\u001B[38;5;124m\"\u001B[39m\u001B[38;5;124mProvided data have incorrect shape\u001B[39m\u001B[38;5;124m\"\u001B[39m)\n",
      "\u001B[1;31mValueError\u001B[0m: Provided data have incorrect shape"
     ]
    }
   ],
   "source": [
    "get_channels(stack[0])['Cy3']"
   ],
   "metadata": {
    "collapsed": false,
    "ExecuteTime": {
     "end_time": "2023-06-28T21:30:59.142237100Z",
     "start_time": "2023-06-28T21:30:59.100349800Z"
    }
   }
  },
  {
   "cell_type": "code",
   "execution_count": 22,
   "outputs": [
    {
     "data": {
      "text/plain": "True"
     },
     "execution_count": 22,
     "metadata": {},
     "output_type": "execute_result"
    }
   ],
   "source": [
    "from sm_particle_counter.utils import ensure_array, is_array\n",
    "is_array(stack)"
   ],
   "metadata": {
    "collapsed": false,
    "ExecuteTime": {
     "end_time": "2023-06-28T21:29:58.954178100Z",
     "start_time": "2023-06-28T21:29:58.943209Z"
    }
   }
  },
  {
   "cell_type": "code",
   "execution_count": 19,
   "outputs": [
    {
     "data": {
      "text/plain": "(50, 401)"
     },
     "execution_count": 19,
     "metadata": {},
     "output_type": "execute_result"
    }
   ],
   "source": [
    "stack[0].shape"
   ],
   "metadata": {
    "collapsed": false,
    "ExecuteTime": {
     "end_time": "2023-06-28T21:29:20.898782800Z",
     "start_time": "2023-06-28T21:29:20.877837800Z"
    }
   }
  },
  {
   "cell_type": "code",
   "execution_count": 7,
   "outputs": [],
   "source": [
    "import pandas as pd"
   ],
   "metadata": {
    "collapsed": false,
    "ExecuteTime": {
     "end_time": "2023-07-12T18:03:34.022712100Z",
     "start_time": "2023-07-12T18:03:33.298644600Z"
    }
   }
  },
  {
   "cell_type": "code",
   "execution_count": 8,
   "outputs": [],
   "source": [
    "d = pd.DataFrame.from_dict(dict())"
   ],
   "metadata": {
    "collapsed": false,
    "ExecuteTime": {
     "end_time": "2023-07-12T18:03:50.294919800Z",
     "start_time": "2023-07-12T18:03:50.272978600Z"
    }
   }
  },
  {
   "cell_type": "code",
   "execution_count": 12,
   "outputs": [
    {
     "data": {
      "text/plain": "2"
     },
     "execution_count": 12,
     "metadata": {},
     "output_type": "execute_result"
    }
   ],
   "source": [
    "d.ndim"
   ],
   "metadata": {
    "collapsed": false,
    "ExecuteTime": {
     "end_time": "2023-07-12T18:04:33.389086600Z",
     "start_time": "2023-07-12T18:04:33.362159400Z"
    }
   }
  },
  {
   "cell_type": "code",
   "execution_count": null,
   "outputs": [],
   "source": [],
   "metadata": {
    "collapsed": false
   }
  }
 ],
 "metadata": {
  "kernelspec": {
   "display_name": "Python 3",
   "language": "python",
   "name": "python3"
  },
  "language_info": {
   "codemirror_mode": {
    "name": "ipython",
    "version": 2
   },
   "file_extension": ".py",
   "mimetype": "text/x-python",
   "name": "python",
   "nbconvert_exporter": "python",
   "pygments_lexer": "ipython2",
   "version": "2.7.6"
  }
 },
 "nbformat": 4,
 "nbformat_minor": 0
}
